{
 "cells": [
  {
   "cell_type": "code",
   "execution_count": 1,
   "metadata": {},
   "outputs": [
    {
     "ename": "ModuleNotFoundError",
     "evalue": "No module named 'depth_pro'",
     "output_type": "error",
     "traceback": [
      "\u001b[1;31m---------------------------------------------------------------------------\u001b[0m",
      "\u001b[1;31mModuleNotFoundError\u001b[0m                       Traceback (most recent call last)",
      "Cell \u001b[1;32mIn[1], line 5\u001b[0m\n\u001b[0;32m      1\u001b[0m \u001b[38;5;66;03m# 참고: https://github.com/apple/ml-depth-pro\u001b[39;00m\n\u001b[0;32m      2\u001b[0m \u001b[38;5;66;03m# 0. \u001b[39;00m\n\u001b[0;32m      4\u001b[0m \u001b[38;5;28;01mfrom\u001b[39;00m \u001b[38;5;21;01mPIL\u001b[39;00m \u001b[38;5;28;01mimport\u001b[39;00m Image\n\u001b[1;32m----> 5\u001b[0m \u001b[38;5;28;01mimport\u001b[39;00m \u001b[38;5;21;01mdepth_pro\u001b[39;00m\n\u001b[0;32m      7\u001b[0m \u001b[38;5;66;03m# Load model and preprocessing transform\u001b[39;00m\n\u001b[0;32m      8\u001b[0m model, transform \u001b[38;5;241m=\u001b[39m depth_pro\u001b[38;5;241m.\u001b[39mcreate_model_and_transforms()\n",
      "\u001b[1;31mModuleNotFoundError\u001b[0m: No module named 'depth_pro'"
     ]
    }
   ],
   "source": [
    "# 참고: https://github.com/apple/ml-depth-pro\n",
    "# 0. \n",
    "\n",
    "from PIL import Image\n",
    "import depth_pro\n",
    "\n",
    "# Load model and preprocessing transform\n",
    "model, transform = depth_pro.create_model_and_transforms()\n",
    "model.eval()\n",
    "\n",
    "# Load and preprocess an image.\n",
    "image, _, f_px = depth_pro.load_rgb(image_path)\n",
    "image = transform(image)\n",
    "\n",
    "# Run inference.\n",
    "prediction = model.infer(image, f_px=f_px)\n",
    "depth = prediction[\"depth\"]  # Depth in [m].\n",
    "focallength_px = prediction[\"focallength_px\"]  # Focal length in pixels."
   ]
  }
 ],
 "metadata": {
  "kernelspec": {
   "display_name": "base",
   "language": "python",
   "name": "python3"
  },
  "language_info": {
   "codemirror_mode": {
    "name": "ipython",
    "version": 3
   },
   "file_extension": ".py",
   "mimetype": "text/x-python",
   "name": "python",
   "nbconvert_exporter": "python",
   "pygments_lexer": "ipython3",
   "version": "3.9.21"
  }
 },
 "nbformat": 4,
 "nbformat_minor": 2
}
