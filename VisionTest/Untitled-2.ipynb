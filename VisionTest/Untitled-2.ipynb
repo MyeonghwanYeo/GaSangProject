{
 "cells": [
  {
   "cell_type": "code",
   "execution_count": 7,
   "metadata": {},
   "outputs": [
    {
     "name": "stdout",
     "output_type": "stream",
     "text": [
      "사진이 저장되었습니다: C:\\2train\\image_2025-01-16_15-59-25.jpg\n"
     ]
    }
   ],
   "source": [
    "import cv2\n",
    "import os\n",
    "from datetime import datetime\n",
    "\n",
    "# 저장할 폴더 경로 설정\n",
    "save_folder = r'C:\\2train'\n",
    "if not os.path.exists(save_folder):\n",
    "    os.makedirs(save_folder)\n",
    "\n",
    "# 웹캠 열기\n",
    "cap = cv2.VideoCapture(0)\n",
    "\n",
    "if not cap.isOpened():\n",
    "    print(\"웹캠을 열 수 없습니다.\")\n",
    "    exit()\n",
    "\n",
    "# 사진 촬영\n",
    "ret, frame = cap.read()\n",
    "if ret:\n",
    "    # 현재 시간으로 파일 이름 설정 (예: image_2025-01-14_16-40-27.jpg)\n",
    "    timestamp = datetime.now().strftime('%Y-%m-%d_%H-%M-%S')\n",
    "    file_name = os.path.join(save_folder, f'image_{timestamp}.jpg')\n",
    "    \n",
    "    # 이미지 저장\n",
    "    cv2.imwrite(file_name, frame)\n",
    "    print(f\"사진이 저장되었습니다: {file_name}\")\n",
    "    \n",
    "    # 저장된 이미지 보여주기\n",
    "    cv2.imshow('Captured Image', frame)\n",
    "    cv2.waitKey(0)  # 키 입력을 기다림\n",
    "    cv2.destroyAllWindows()  # 창 닫기\n",
    "else:\n",
    "    print(\"사진을 촬영할 수 없습니다.\")\n",
    "\n",
    "# 웹캠 해제\n",
    "cap.release()\n"
   ]
  }
 ],
 "metadata": {
  "kernelspec": {
   "display_name": "base",
   "language": "python",
   "name": "python3"
  },
  "language_info": {
   "codemirror_mode": {
    "name": "ipython",
    "version": 3
   },
   "file_extension": ".py",
   "mimetype": "text/x-python",
   "name": "python",
   "nbconvert_exporter": "python",
   "pygments_lexer": "ipython3",
   "version": "3.9.21"
  }
 },
 "nbformat": 4,
 "nbformat_minor": 2
}
